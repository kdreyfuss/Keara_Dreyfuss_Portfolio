{
  "cells": [
    {
      "cell_type": "markdown",
      "metadata": {
        "id": "VMKzWA_-pYO4"
      },
      "source": [
        "1. Design a calculator:\n",
        "- the calculator once starts, cannot stop unless the user chooses\n",
        "- implement all numerical operators that we discussed\n",
        "- the user has to rpovide the numbers and desired operator from the keyboard; then, the calculator will display the result\n",
        "- numbers: int or float, operator: str\n",
        "- the calculator stops if the user enters the word \"break\" instead of an operater; it skips an iteration if the user gives an operator that is not numerical (e.g. a boolean one)"
      ]
    },
    {
      "cell_type": "code",
      "execution_count": null,
      "metadata": {
        "colab": {
          "background_save": true,
          "base_uri": "https://localhost:8080/"
        },
        "id": "6GPOn9y8pYhl",
        "outputId": "a734641a-b7e6-4269-eb97-ec8b8ca96bab"
      },
      "outputs": [
        {
          "name": "stdout",
          "output_type": "stream",
          "text": [
            "9\n"
          ]
        }
      ],
      "source": [
        "while True:\n",
        "  number1 = int(input(\"Type the first number\"))\n",
        "  operator = input(\"Type an operator (+, -, /, //, %, **) or type 'break' to end\")\n",
        "  number2 = int(input(\"Type the second number\"))\n",
        "  if operator == '+':\n",
        "    result = number1 + number2\n",
        "    print(result)\n",
        "  elif operator == '-':\n",
        "    result = number1 - number2\n",
        "    print(result)\n",
        "    print(f'{number1} = ')\n",
        "  elif operator == '/':\n",
        "    result = number1/number2\n",
        "    print(result)\n",
        "  elif operator == '//':\n",
        "    result = number1 // number2\n",
        "    print(result)\n",
        "  elif operator == '%':\n",
        "    result = number1 % number2\n",
        "    print(result)\n",
        "  elif operator == '**':\n",
        "    result = number1 ** number2\n",
        "    print(result)\n",
        "  elif operator == 'break':\n",
        "    break\n",
        "  else: continue"
      ]
    },
    {
      "cell_type": "markdown",
      "source": [
        "2. Populating a Dictionary with Two Variables (variable 1: integers 1-12, variable 2: month names)"
      ],
      "metadata": {
        "id": "TyGv6fYVXrua"
      }
    },
    {
      "cell_type": "code",
      "source": [
        "months = {}\n",
        "\n",
        "numbers = [1,2,3,4,5,6,7,8,9,10,11,12]\n",
        "names = [\"Jan\", 'Feb', \"Mar\", \"Apr\", \"May\", \"June\", \"July\", \"Aug\", \"Sept\", \"Oct\", \"Nov\", \"Dec\"]\n",
        "\n",
        "for num in numbers:\n",
        "  months[num] = names[num-1]\n",
        "print(months)"
      ],
      "metadata": {
        "id": "OUUL83vUYV1l"
      },
      "execution_count": null,
      "outputs": []
    },
    {
      "cell_type": "markdown",
      "source": [
        "3. Date Program (given a date as a string input, extract the day, month, year)\n",
        "\n"
      ],
      "metadata": {
        "id": "QpDZSy2pYjh5"
      }
    },
    {
      "cell_type": "code",
      "source": [
        "date = input('Enter your birthday here (MM/DD/YYYY)')\n",
        "month = int(date[0:2])\n",
        "day = int(date[3:5])\n",
        "year = int(date[6:])\n",
        "print(f' year = {year}, month =  {month}, day =  {day}')"
      ],
      "metadata": {
        "id": "eSKiK50GY23K",
        "colab": {
          "base_uri": "https://localhost:8080/"
        },
        "outputId": "b8bfc3fd-b828-4b66-8cbc-2f3e35858e85"
      },
      "execution_count": null,
      "outputs": [
        {
          "output_type": "stream",
          "name": "stdout",
          "text": [
            "Enter your birthday here (MM/DD/YYYY)12/17/2002\n",
            " year = 2002, month =  12, day =  17\n"
          ]
        }
      ]
    },
    {
      "cell_type": "markdown",
      "source": [
        "4. Deposit with Interest Rates"
      ],
      "metadata": {
        "id": "Kp0nB9k3ZWU5"
      }
    },
    {
      "cell_type": "code",
      "source": [
        "from inspect import isroutine\n",
        "deposit = float(input('Enter desposit amount: '))\n",
        "customer_type = input('Enter customer type (n: new, e: existing)')\n",
        "\n",
        "if customer_type == 'n':\n",
        "  ir = 3.0\n",
        "else:\n",
        "  if deposit > 10000:\n",
        "    ir = 3.5\n",
        "  elif deposit > 10000:\n",
        "    ir = 3.25\n",
        "  else:\n",
        "    ir = 3.0\n",
        "\n",
        "total = (1 + ir/100)*deposit\n",
        "print(f'Deposit at the end of the year: {total}')\n"
      ],
      "metadata": {
        "id": "oN-WVgVEZjz_"
      },
      "execution_count": null,
      "outputs": []
    },
    {
      "cell_type": "markdown",
      "source": [
        "5. List Creator (populating a list using a while loop)\n"
      ],
      "metadata": {
        "id": "8JbB2A_8ZunF"
      }
    },
    {
      "cell_type": "code",
      "execution_count": null,
      "metadata": {
        "colab": {
          "base_uri": "https://localhost:8080/"
        },
        "id": "Tj00SoSSFBl8",
        "outputId": "b7459e14-88e2-4ba6-960e-4266e09fb00b"
      },
      "outputs": [
        {
          "name": "stdout",
          "output_type": "stream",
          "text": [
            "Enter a Value: 2\n",
            "[2]\n",
            "Enter a Value: 0\n"
          ]
        },
        {
          "output_type": "execute_result",
          "data": {
            "text/plain": [
              "[2]"
            ]
          },
          "metadata": {},
          "execution_count": 3
        }
      ],
      "source": [
        " L = []\n",
        "while(True):\n",
        "  number = int(input('Enter a Value: '))\n",
        "  if (number != 0):\n",
        "    L.append(number)\n",
        "    print(L)\n",
        "  else:\n",
        "    break\n",
        "L\n",
        "\n"
      ]
    },
    {
      "cell_type": "markdown",
      "source": [
        "6. Rock-Paper-Scissors"
      ],
      "metadata": {
        "id": "OhbMw8vKZ8H1"
      }
    },
    {
      "cell_type": "code",
      "execution_count": null,
      "metadata": {
        "id": "eNlGbIVOnaBI"
      },
      "outputs": [],
      "source": [
        "import random\n",
        "user_choice1 = input(\"Do you want to play the game? Type Yes or No: \")\n",
        "while user_choice1 == 'Yes':\n",
        "  user_choice1 = input\n",
        "  pc_choice = random.choice(['rock', 'paper', 'scissors'])\n",
        "  user_choice2 = input(\"Type either 'rock', 'paper', 'scissors' here: \")\n",
        "  print(f'PC picked' + pc_choice)\n",
        "  if(pc_choice == user_choice2):\n",
        "    print('tie')\n",
        "  elif((pc_choice == 'paper' and user_choice2 == 'scissors') or\n",
        "       (pc_choice == 'scissors' and user_choice2 == 'rock') or\n",
        "       (pc_choice == 'rock' and user_choice2 == 'paper')):\n",
        "       print('you win!')\n",
        "  else:\n",
        "    print('you lose!')\n",
        "  user_choice1 = input(\"Do you want to continue playing? Type Yes or No: \")"
      ]
    },
    {
      "cell_type": "markdown",
      "source": [
        "7. Leap Year calculation\n"
      ],
      "metadata": {
        "id": "mBL2LmcKaDYn"
      }
    },
    {
      "cell_type": "code",
      "source": [
        "year = int(input('Enter your year here:'))\n",
        "\n",
        "if year%4 == 0:\n",
        "  print('This year is a leap year')\n",
        "else:\n",
        "  print('This is not a leap year')"
      ],
      "metadata": {
        "colab": {
          "base_uri": "https://localhost:8080/"
        },
        "id": "zoODGiaAnF0w",
        "outputId": "03f311b1-e777-4989-9bba-927f1eacbd37"
      },
      "execution_count": null,
      "outputs": [
        {
          "output_type": "stream",
          "name": "stdout",
          "text": [
            "Enter your year here:2005\n",
            "This is not a leap year\n"
          ]
        }
      ]
    },
    {
      "cell_type": "markdown",
      "source": [
        "8. Parking Garage Problem"
      ],
      "metadata": {
        "id": "83ZXwX-4afJn"
      }
    },
    {
      "cell_type": "code",
      "execution_count": null,
      "metadata": {
        "id": "-uOPcicLnQ6S",
        "colab": {
          "base_uri": "https://localhost:8080/"
        },
        "outputId": "40d51241-c413-4058-a0b8-56d62a13e737"
      },
      "outputs": [
        {
          "output_type": "stream",
          "name": "stdout",
          "text": [
            "1 10.0\n",
            "2 10.0\n",
            "3 12.5\n",
            "4 15.0\n",
            "5 17.5\n",
            "6 20.0\n",
            "7 20.0\n",
            "8 20.0\n"
          ]
        }
      ],
      "source": [
        "base_fee = 5\n",
        "hour_fee = 2.5\n",
        "for hour in range(8):\n",
        "  price = (hour+1)*hour_fee + base_fee\n",
        "  if price < 10:\n",
        "    print(f'{hour+1} 10.0')\n",
        "  elif price > 20:\n",
        "    print(f'{hour+1} 20.0')\n",
        "  else:\n",
        "    print(f'{hour + 1} {price}')\n",
        "\n"
      ]
    },
    {
      "cell_type": "markdown",
      "source": [
        "9. Movie Theater Problem"
      ],
      "metadata": {
        "id": "DN9PV4vCas9x"
      }
    },
    {
      "cell_type": "code",
      "execution_count": null,
      "metadata": {
        "id": "xmlx3aLpnU41"
      },
      "outputs": [],
      "source": [
        "ticket_price = 10\n",
        "fixed_cost = 200\n",
        "base_attendees = 20\n",
        "for ad_cost in range (0,201,25):\n",
        "  attendees = base_attendees + 2*round(ad_cost**.5)\n",
        "  profit =(ticket_price*attendees - fixed_cost - ad_cost)\n",
        "  print(f'{ad_cost} {profit}')"
      ]
    },
    {
      "cell_type": "markdown",
      "source": [
        "10. Mortgage Problem\n"
      ],
      "metadata": {
        "id": "pRz19M2skTdh"
      }
    },
    {
      "cell_type": "code",
      "source": [
        "# Fixed rate monthly mortgage\n",
        "  # properties:\n",
        "    # initiatal loan amount($)\n",
        "    # term to maturity (years)\n",
        "    # fixed annual interest rate (%)\n",
        "  # specific example: $100,0000 30 years 6%\n",
        "    # initial amount B, term n (in months), interest rate r (in decimal)\n",
        "    # M = B[r(1+r)^n]/[(1+r)^n-1].  (B: initial amount, n: maturity*12, r: interest/100)\n",
        "\n",
        "class mortgage:\n",
        "  def __init__(self, amount, maturity, interest):\n",
        "    self.amount = amount\n",
        "    self.maturity = maturity\n",
        "    self.__interest = interest\n",
        "\n",
        "  def __str__(self):\n",
        "    return f'Mortgage info:\\n Initial loan amount: ${self.amount}\\n Maturity term: {self.maturity} years \\n Interest rate: {self.__interest}%'\n",
        "\n",
        "  def get_interest(self):\n",
        "    return self.__interest\n",
        "\n",
        "  def set_interest(self, newInterest):\n",
        "    if newInterest >=0:\n",
        "     self.__interest = newInterest\n",
        "    else:\n",
        "      print('Interest must be non-negative')\n",
        "\n",
        "  def payment(self):\n",
        "    B = self.amount\n",
        "    n = self.maturity*12\n",
        "    r = self.__interest/100\n",
        "\n",
        "    return B * (r*(1+r)**n) / ((1+r)** n-1)\n",
        "\n"
      ],
      "metadata": {
        "id": "5KwZpYGoaOu1"
      },
      "execution_count": null,
      "outputs": []
    },
    {
      "cell_type": "code",
      "source": [
        "m = mortgage(100000, 30 ,6)\n",
        "print(m)\n",
        "m.payment()"
      ],
      "metadata": {
        "colab": {
          "base_uri": "https://localhost:8080/"
        },
        "id": "36LWRV1fD4YW",
        "outputId": "7558f3ed-ce9d-442b-8f36-84a8f15775bd"
      },
      "execution_count": null,
      "outputs": [
        {
          "output_type": "stream",
          "name": "stdout",
          "text": [
            "Mortgage info:\n",
            " Initial loan amount: $100000\n",
            " Maturity term: 30 years \n",
            " Interest rate: 6%\n"
          ]
        },
        {
          "output_type": "execute_result",
          "data": {
            "text/plain": [
              "6000.000004656286"
            ]
          },
          "metadata": {},
          "execution_count": 4
        }
      ]
    },
    {
      "cell_type": "markdown",
      "source": [
        "11. 3D Point Problem\n"
      ],
      "metadata": {
        "id": "EdObz15YkV11"
      }
    },
    {
      "cell_type": "code",
      "source": [
        "class Point:\n",
        "  def __init__(self, x, y,):\n",
        "    self.x = x\n",
        "    self.y = y\n",
        "  def distance(self, other):\n",
        "    x_diff = (self.x - other.x)**2\n",
        "    y_diff = (self.y - other.y)**2\n",
        "    return (x_diff + y_diff)**.5\n",
        "\n",
        "class point3D(Point):\n",
        "    def __init__(self, x, y, z):\n",
        "      super(). __init__(x,y)\n",
        "      self.z = z\n",
        "    def distance(self, other):\n",
        "      x_diff = (self.x - other.x)**2\n",
        "      y_diff = (self.y - other.y)**2\n",
        "      z_diff = (self.z - other.z)**2\n",
        "      return(x_diff + y_diff + z_diff)**.5\n",
        "\n",
        "\n",
        "p1 = Point(3,4)\n",
        "p2 = Point(6,8)\n",
        "print(p1.distance(p2))\n",
        "\n",
        "p3d1= point3D(3,4,5)\n",
        "p3d2 = point3D(6,8,10)\n",
        "print(p3d1.distance(p3d2))\n",
        "\n"
      ],
      "metadata": {
        "colab": {
          "base_uri": "https://localhost:8080/"
        },
        "id": "VDe9XpO6Jnyg",
        "outputId": "bc4055be-6113-4a95-8d0a-731def2786df"
      },
      "execution_count": null,
      "outputs": [
        {
          "output_type": "stream",
          "name": "stdout",
          "text": [
            "5.0\n",
            "7.0710678118654755\n"
          ]
        }
      ]
    },
    {
      "cell_type": "markdown",
      "source": [
        "Other"
      ],
      "metadata": {
        "id": "GIvBFZqra1Jo"
      }
    },
    {
      "cell_type": "code",
      "source": [
        "def fill():\n",
        "  l = []\n",
        "  for i in range(10):\n",
        "    l.append(i)\n",
        "    if i%2 == 0:\n",
        "      l.pop()\n",
        "  print(1)\n",
        "\n",
        "fill()"
      ],
      "metadata": {
        "colab": {
          "base_uri": "https://localhost:8080/"
        },
        "id": "hMxcSgSr7Hbl",
        "outputId": "f372ccfc-92a9-453d-df5d-56506ceddadf"
      },
      "execution_count": null,
      "outputs": [
        {
          "output_type": "stream",
          "name": "stdout",
          "text": [
            "1\n"
          ]
        }
      ]
    },
    {
      "cell_type": "code",
      "source": [
        "def greeting(n):\n",
        "  print(f'Hello {n}!')\n",
        "\n",
        "name = input('Enter a name:')\n",
        "greeting(name)\n"
      ],
      "metadata": {
        "colab": {
          "base_uri": "https://localhost:8080/"
        },
        "id": "9fABUFkc8U8s",
        "outputId": "4973d35f-7577-4486-bc24-7eee0660cbe3"
      },
      "execution_count": null,
      "outputs": [
        {
          "output_type": "stream",
          "name": "stdout",
          "text": [
            "Enter a name:Alice\n",
            "Hello Alice!\n"
          ]
        }
      ]
    },
    {
      "cell_type": "code",
      "source": [
        "def add_num(a, b=5):\n",
        " return  a + b\n",
        "\n",
        "\n",
        "x = 5\n",
        "y = 6\n",
        "c = add_num(x, b=y)\n",
        "print(c)"
      ],
      "metadata": {
        "colab": {
          "base_uri": "https://localhost:8080/"
        },
        "id": "Ph7T3Oas8yCZ",
        "outputId": "77b7e682-29d7-4a70-eb8e-83b9d38bb4dd"
      },
      "execution_count": null,
      "outputs": [
        {
          "output_type": "stream",
          "name": "stdout",
          "text": [
            "11\n"
          ]
        }
      ]
    },
    {
      "cell_type": "code",
      "execution_count": null,
      "metadata": {
        "colab": {
          "base_uri": "https://localhost:8080/"
        },
        "id": "CJ19Rsn-VUSW",
        "outputId": "b114d374-ec63-4228-d925-639db3a1fc24"
      },
      "outputs": [
        {
          "name": "stdout",
          "output_type": "stream",
          "text": [
            "a\n",
            "b\n",
            "d\n",
            "g\n"
          ]
        }
      ],
      "source": [
        "s1 = 'abcdefg'\n",
        "s2 = 'abdght'\n",
        "\n",
        "for char in s1:\n",
        "  if char in s2:\n",
        "    print(char)"
      ]
    },
    {
      "cell_type": "code",
      "execution_count": null,
      "metadata": {
        "colab": {
          "base_uri": "https://localhost:8080/"
        },
        "id": "EWJsjXHCWsJm",
        "outputId": "647f4049-699b-4ef7-8344-c8150d26d1ad"
      },
      "outputs": [
        {
          "name": "stdout",
          "output_type": "stream",
          "text": [
            "a\n",
            "b\n",
            "d\n",
            "g\n"
          ]
        }
      ],
      "source": [
        "s1 = 'abcdefg'\n",
        "s2 = 'abdght'\n",
        "\n",
        "for index in range(len(s1)):\n",
        "  if s1[index] in s2:\n",
        "    print(s1[index])"
      ]
    },
    {
      "cell_type": "code",
      "source": [
        "def fibR(n):\n",
        "  if n == 0 or n == 1:\n",
        "    return 1\n",
        "  else:\n",
        "    return fibR(n-1)  + fibR(n-2)\n",
        "\n",
        "for i in range(8):\n",
        "  print(fibR(i), end = \" \")\n"
      ],
      "metadata": {
        "colab": {
          "base_uri": "https://localhost:8080/"
        },
        "id": "OsT7JVjcCEZA",
        "outputId": "31f7ae3b-3c62-4dcd-a0a4-1d1c8c59b47c"
      },
      "execution_count": null,
      "outputs": [
        {
          "output_type": "stream",
          "name": "stdout",
          "text": [
            "1 1 2 3 5 8 13 21 "
          ]
        }
      ]
    },
    {
      "cell_type": "code",
      "source": [
        "def factorial(n):\n",
        "  if n ==1:\n",
        "    return 1\n",
        "  else:\n",
        "    return (n * factorial(n-1))\n",
        "\n",
        "factorial(8)\n",
        "\n"
      ],
      "metadata": {
        "colab": {
          "base_uri": "https://localhost:8080/"
        },
        "id": "4jKiR3tGElKA",
        "outputId": "cb35e2ba-7f14-42c4-e75a-e0d5ae8d0b4b"
      },
      "execution_count": null,
      "outputs": [
        {
          "output_type": "execute_result",
          "data": {
            "text/plain": [
              "40320"
            ]
          },
          "metadata": {},
          "execution_count": 4
        }
      ]
    },
    {
      "cell_type": "code",
      "source": [
        "def factR(n):\n",
        "  if n == 1:\n",
        "    return 1\n",
        "  else:\n",
        "    return n * factR(n-1)"
      ],
      "metadata": {
        "id": "yOUKh3c-IAFp"
      },
      "execution_count": null,
      "outputs": []
    },
    {
      "cell_type": "code",
      "source": [
        "def fact(n):\n",
        "  p = 1\n",
        "  while n >= 1:\n",
        "    p = p * n\n",
        "    n = n - 1\n",
        "  return p"
      ],
      "metadata": {
        "id": "vWls54NnIcBY"
      },
      "execution_count": null,
      "outputs": []
    },
    {
      "cell_type": "code",
      "source": [
        "def mirrorString(s):\n",
        "  if len(s)== 1:\n",
        "    return(s)\n",
        "  else:\n",
        "    return s[-1] + mirrorString(s[:-1])\n",
        "\n",
        "mirrorString(\"float\")"
      ],
      "metadata": {
        "colab": {
          "base_uri": "https://localhost:8080/",
          "height": 35
        },
        "id": "LLxpOcT2T55i",
        "outputId": "33976e53-ec00-476b-ff40-aae233a42a15"
      },
      "execution_count": null,
      "outputs": [
        {
          "output_type": "execute_result",
          "data": {
            "text/plain": [
              "'taolf'"
            ],
            "application/vnd.google.colaboratory.intrinsic+json": {
              "type": "string"
            }
          },
          "metadata": {},
          "execution_count": 6
        }
      ]
    },
    {
      "cell_type": "code",
      "source": [
        "def quickSort(alist):\n",
        "  if len(alist) < 2:\n",
        "    return alist\n",
        "  else:\n",
        "    less, equal, larger = [], [], []\n",
        "\n",
        "    pivotIndex = len(alist) // 2\n",
        "\n",
        "    for item in alist:\n",
        "      if item < alist[pivotIndex]:\n",
        "        less.append(item)\n",
        "      elif item == alist[pivotIndex]:\n",
        "        equal.append(item)\n",
        "      else:\n",
        "        larger.append(item)\n",
        "\n",
        "    return quickSort(less) + equal + quickSort(larger)\n",
        "\n",
        "quickSort([8,2,5,3,6,1])"
      ],
      "metadata": {
        "colab": {
          "base_uri": "https://localhost:8080/"
        },
        "id": "JL6wvnJEXub6",
        "outputId": "f9ec19de-9d89-46d1-cf08-1f62b79907eb"
      },
      "execution_count": null,
      "outputs": [
        {
          "output_type": "execute_result",
          "data": {
            "text/plain": [
              "[1, 2, 3, 5, 6, 8]"
            ]
          },
          "metadata": {},
          "execution_count": 12
        }
      ]
    },
    {
      "cell_type": "code",
      "source": [
        "a = 2\n",
        "b = 3\n",
        "\n",
        "a/b"
      ],
      "metadata": {
        "id": "9mAUHOmsbZmL",
        "colab": {
          "base_uri": "https://localhost:8080/"
        },
        "outputId": "bee4a60e-1b05-4549-dad8-bfe16691ef92"
      },
      "execution_count": null,
      "outputs": [
        {
          "output_type": "execute_result",
          "data": {
            "text/plain": [
              "0.6666666666666666"
            ]
          },
          "metadata": {},
          "execution_count": 1
        }
      ]
    },
    {
      "cell_type": "code",
      "source": [
        "try:\n",
        "  a = float(input('Enter a numerator: '))\n",
        "  b = float(input('Enter a denominator: '))\n",
        "  print(a/b)\n",
        "  print('Division is complete')\n",
        "except ZeroDivisionError:\n",
        "  print('Division by zero is not allowed')\n",
        "except ValueError:\n",
        "  print('The string input cannot be casted as a float')\n",
        "except TypeError:\n",
        "  pint('Invalid Input')\n",
        "except:\n",
        "  print('Unkown error')\n",
        "\n",
        "print('Program ends')\n"
      ],
      "metadata": {
        "id": "6ub8r1lq0BmF"
      },
      "execution_count": null,
      "outputs": []
    },
    {
      "cell_type": "code",
      "source": [
        "1 = [1,2,3,4,5]\n",
        "\n",
        "try:\n",
        "  idx = float(input('Enter Index:'))\n",
        "  print(1[idx])\n",
        "except IndexError:\n",
        "  print('Index given out of bounds')\n",
        "except TypeError:\n",
        "  print('Index must be integer')"
      ],
      "metadata": {
        "id": "9jnE1vBs6dNm"
      },
      "execution_count": null,
      "outputs": []
    },
    {
      "cell_type": "code",
      "source": [
        "class Car:\n",
        "  def __init__(self, make, model, year):\n",
        "    self.make = make\n",
        "    self.model = model\n",
        "    self.year = year\n",
        "    self.utility = 'HUV'\n",
        "\n",
        "  def get_model()\n",
        "\n",
        "  def accelerate(self):\n",
        "    print('the car accelerates')\n",
        "\n",
        "  def decelerate(self):\n",
        "    print('The car decelerates')\n"
      ],
      "metadata": {
        "id": "ep1TasPTHUuO"
      },
      "execution_count": null,
      "outputs": []
    },
    {
      "cell_type": "code",
      "source": [
        "c = Car('Ford', 150, 2023)\n",
        "d = Car('Chrysler', 300, 2020)"
      ],
      "metadata": {
        "id": "v9e3oQHLKCPY"
      },
      "execution_count": null,
      "outputs": []
    },
    {
      "cell_type": "code",
      "source": [
        "c.accelerate()"
      ],
      "metadata": {
        "colab": {
          "base_uri": "https://localhost:8080/"
        },
        "id": "1hx63QgiMZE2",
        "outputId": "24424189-1aef-458a-b31e-001f0d7cc862"
      },
      "execution_count": null,
      "outputs": [
        {
          "output_type": "stream",
          "name": "stdout",
          "text": [
            "the car accelerates\n"
          ]
        }
      ]
    },
    {
      "cell_type": "code",
      "source": [
        "def avg(aList):\n",
        "  try:\n",
        "    return sum(aList) / len(aList)\n",
        "  except TypeError:\n",
        "    print('Put only numbers in the list!')\n",
        "    return float('nan')\n",
        "  except ZeroDivisionError:\n",
        "    print('List must have more than one value!')\n",
        "    return[]\n",
        "  except:\n",
        "    print('Unkonwn error')\n",
        "\n",
        "print(avg(['a,1,2']))\n",
        "print(avg([]))\n",
        "avg([1,2,3,4,5])"
      ],
      "metadata": {
        "colab": {
          "base_uri": "https://localhost:8080/"
        },
        "id": "fh5ei-q59UGZ",
        "outputId": "8b4f9eff-af60-4a32-c7da-a5e553b8e9f8"
      },
      "execution_count": null,
      "outputs": [
        {
          "output_type": "stream",
          "name": "stdout",
          "text": [
            "Put only numbers in the list!\n",
            "nan\n",
            "List must have more than one value!\n",
            "[]\n"
          ]
        },
        {
          "output_type": "execute_result",
          "data": {
            "text/plain": [
              "3.0"
            ]
          },
          "metadata": {},
          "execution_count": 12
        }
      ]
    },
    {
      "cell_type": "code",
      "source": [
        "l = [1,3,5,7,9]\n",
        "\n",
        "try:\n",
        "  idx = int(input('Enter index:'))\n",
        "  print(l[idx])\n",
        "except IndexError:\n",
        "  print('Index value must be out of bounds!')\n",
        "except ValueError:\n",
        "  print('Indexes must be integers!')\n",
        "else:\n",
        "  print('Item found!')\n",
        "finally:\n",
        "  print('This will be displayed as always')\n"
      ],
      "metadata": {
        "colab": {
          "base_uri": "https://localhost:8080/"
        },
        "id": "XY_6ry0d96QY",
        "outputId": "19180ed4-769a-46a1-d3a0-ac940c57e958"
      },
      "execution_count": null,
      "outputs": [
        {
          "output_type": "stream",
          "name": "stdout",
          "text": [
            "Enter index:3\n",
            "7\n",
            "Item found!\n",
            "This will be displayed as always\n"
          ]
        }
      ]
    },
    {
      "cell_type": "code",
      "source": [
        "class car:\n",
        "  def __init__(self, make, model, year):\n",
        "    self.make = make\n",
        "    self.model = model\n",
        "    self.year = year\n",
        "    self.utility = 'SUV'\n",
        "\n",
        "def accelerate(self):\n",
        "  print(f'The {self.make} accelerates')\n",
        "\n",
        "c = car('Ford', 150, '2023')\n",
        "d = car('Chrysler', 300, '2020')"
      ],
      "metadata": {
        "id": "XtiiznmNZ3_V"
      },
      "execution_count": null,
      "outputs": []
    },
    {
      "cell_type": "code",
      "source": [
        "m = mortgage(100000, 30, 6)"
      ],
      "metadata": {
        "id": "gaeIhCZy93NO"
      },
      "execution_count": null,
      "outputs": []
    },
    {
      "cell_type": "code",
      "source": [
        "print(m)"
      ],
      "metadata": {
        "colab": {
          "base_uri": "https://localhost:8080/"
        },
        "id": "kDaOWRCyAni4",
        "outputId": "2417da56-ded1-4ecf-ff9b-c577e16cb547"
      },
      "execution_count": null,
      "outputs": [
        {
          "output_type": "stream",
          "name": "stdout",
          "text": [
            "Mortgage info:\n",
            " Initial loan amount: $100000\n",
            " Maturity term: 30 years \n",
            " Interest rate: 6%\n"
          ]
        }
      ]
    },
    {
      "cell_type": "code",
      "source": [
        "m.payment()"
      ],
      "metadata": {
        "colab": {
          "base_uri": "https://localhost:8080/"
        },
        "id": "2qyxJns_-kGa",
        "outputId": "4b46bd02-7d00-4b51-f928-2922cc9cd509"
      },
      "execution_count": null,
      "outputs": [
        {
          "output_type": "execute_result",
          "data": {
            "text/plain": [
              "6000.000004656286"
            ]
          },
          "metadata": {},
          "execution_count": 46
        }
      ]
    },
    {
      "cell_type": "code",
      "source": [
        "class A:\n",
        "  def __init__(self,obj):\n",
        "    self.obj = obj\n",
        "\n",
        "  def whoAmI(self):\n",
        "    print('I am an instance of class A')\n",
        "\n",
        "    def __repr__(self):\n",
        "      return f'attribute value: {self.obj}'\n",
        "\n",
        "    def __add__(self, other):\n",
        "      return self.obj + other.obj\n",
        "\n",
        "class B:\n",
        "  def __init__(self, obj):\n",
        "    self.obj = obj\n",
        "\n",
        "  def whoAmI(self):\n",
        "    print('I am an insurance of class B')\n",
        "\n",
        "a1 = A(2)\n",
        "a2 = A(5)\n",
        "b = B(3)"
      ],
      "metadata": {
        "id": "Kpc3iOjJ3Edb"
      },
      "execution_count": null,
      "outputs": []
    },
    {
      "cell_type": "markdown",
      "source": [
        "Class point"
      ],
      "metadata": {
        "id": "QbBRAgYVJlVL"
      }
    },
    {
      "cell_type": "code",
      "source": [
        "class Animal:\n",
        "  def __init__(self,legs):\n",
        "    print('Animal created')\n",
        "    self.legs = legs\n",
        "  def whoAmI(self):\n",
        "    print('I am an animal')\n",
        "\n",
        "class Bird(Animal):\n",
        "  def __init__(self,legs,wings):\n",
        "    super(). __init__(legs)\n",
        "    self.wings = wings\n",
        "    print('Bird created')\n",
        "  def fly(self):\n",
        "    print('Birds can fly')\n",
        "\n",
        "a = Animal(4)\n",
        "b = Bird(2, 2)"
      ],
      "metadata": {
        "colab": {
          "base_uri": "https://localhost:8080/"
        },
        "id": "VIkGxe8VNibb",
        "outputId": "ad9c7390-3546-43df-b38c-9b7d9c4747ee"
      },
      "execution_count": null,
      "outputs": [
        {
          "output_type": "stream",
          "name": "stdout",
          "text": [
            "Animal created\n",
            "Animal created\n",
            "Bird created\n"
          ]
        }
      ]
    }
  ],
  "metadata": {
    "colab": {
      "provenance": []
    },
    "kernelspec": {
      "display_name": "Python 3",
      "name": "python3"
    },
    "language_info": {
      "name": "python"
    }
  },
  "nbformat": 4,
  "nbformat_minor": 0
}