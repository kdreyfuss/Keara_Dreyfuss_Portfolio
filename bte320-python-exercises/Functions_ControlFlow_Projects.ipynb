{
  "nbformat": 4,
  "nbformat_minor": 0,
  "metadata": {
    "colab": {
      "provenance": []
    },
    "kernelspec": {
      "name": "python3",
      "display_name": "Python 3"
    },
    "language_info": {
      "name": "python"
    }
  },
  "cells": [
    {
      "cell_type": "markdown",
      "source": [
        "Keara Dreyfuss                      \n",
        "4/30/2024\n"
      ],
      "metadata": {
        "id": "AxMGZkhVekM9"
      }
    },
    {
      "cell_type": "markdown",
      "source": [
        "# Problem Set 2"
      ],
      "metadata": {
        "id": "mqKVIuY-mxNU"
      }
    },
    {
      "cell_type": "markdown",
      "source": [
        "## Assignment 1: Quality Control (7 points)\n",
        "\n",
        "A quality control manager would like to find the average weight of a list of weights. Prior experience indicates that the first two measures are atypical, and the practice is to exclude these from the average calculation.\n",
        "\n",
        "Write a program that calculates the average of a list of numbers that given as inputs from the user, excluding the first two values.\n",
        "\n",
        "For your program, you must define and use the following functions:\n",
        "- `getValues(n)`: Prompt the user for `n` values, returns the list\n",
        "- `calcAverage(alist)`: Calculates the average from the list"
      ],
      "metadata": {
        "id": "-RSYW1jVm08n"
      }
    },
    {
      "cell_type": "code",
      "execution_count": null,
      "metadata": {
        "id": "AqbgJkgNmvQw",
        "colab": {
          "base_uri": "https://localhost:8080/"
        },
        "outputId": "9df47fab-c76c-4450-e62a-fea4bc9da5c9"
      },
      "outputs": [
        {
          "output_type": "stream",
          "name": "stdout",
          "text": [
            "enter number of weights to be added to the list: 5\n",
            "enter a weight: 1\n",
            "enter a weight: 2\n",
            "enter a weight: 3\n",
            "enter a weight: 4\n",
            "enter a weight: 5\n",
            "4.0\n"
          ]
        }
      ],
      "source": [
        "from ast import Lambda\n",
        "def getValues(n):\n",
        "  weights = []\n",
        "  if n<3:\n",
        "    print('not enough values')\n",
        "    return None\n",
        "  else:\n",
        "    for i in range(n):\n",
        "      weight = float(input(f'enter a weight: '))\n",
        "      weights.append(weight)\n",
        "  return weights[2:]\n",
        "\n",
        "def calcAverage(aList):\n",
        "  print(sum(aList)/len(aList))\n",
        "\n",
        "n_weights = int(input('enter number of weights to be added to the list: '))\n",
        "L = getValues(n_weights)\n",
        "calcAverage(L)"
      ]
    },
    {
      "cell_type": "markdown",
      "source": [
        "## Assignment 2: Country Statistics Lookup-Multiple Measures (6 points)\n",
        "\n",
        "Assume a program begins with the statement:\n",
        "\n",
        "```python\n",
        "allData = { # dictionary of values for countries\n",
        "    'US': {'pop':325.7, 'gdp': 19.39, 'ccy': 'USD', 'fx':  1.0},\n",
        "    'CA': {'pop': 36.5, 'gdp':  1.65, 'ccy': 'CAD', 'fx':  1.35},\n",
        "    'MX': {'pop':129.2, 'gdp':  1.15, 'ccy': 'MXN', 'fx': 19.68}\n",
        "    }\n",
        "```\n",
        "\n",
        "Write subsequent statements that (in a loop) prompt the user for a country code (`US`, `CA`, or `MX`), then prompt for a measure name (`pop`, `gdp`, `ccy`, or `fx`), then look up in the above dictionary for the corresponding value, and display it.\n",
        "\n",
        "Example run:\n",
        "```\n",
        "Please enter a country code: CA\n",
        "Please enter a statistic: pop\n",
        "CA pop = 36.5\n",
        "```\n",
        "\n",
        "Your program should handle the cases where a user-entered country code or measure name is not found."
      ],
      "metadata": {
        "id": "QFO0Kzx8ncnv"
      }
    },
    {
      "cell_type": "code",
      "source": [
        "allData = {# dictionary of values for countries\n",
        "           'US': {'pop': 325.7, 'gdp':19.39, 'ccy': 'USD', 'fx': 1.0},\n",
        "           'CA': {'pop': 36.5, 'gdp': 1.65, 'ccy': 'CAD', 'fx': 1.35},\n",
        "           'MX' : {'pop': 129.2, 'gdp': 1.15, 'ccy': 'MXN', 'fx': 19.68}\n",
        "      }\n",
        "\n",
        "while True:\n",
        "  code = input('Please enter a country code: (or type \\\"exit\" to stop): )')\n",
        "  if code == 'exit':\n",
        "    break\n",
        "  if code not in allData.keys():\n",
        "    print(f'This code does not exist: {code}')\n",
        "    continue\n",
        "  stat = input('Please enter a statistic: ')\n",
        "  if stat not in allData[code].keys():\n",
        "    print(f'Unkown statistic: {stat}')\n",
        "    continue\n",
        "\n",
        "  if stat == 'pop':\n",
        "    print(f'Population = {allData[code][stat]} million people.')\n",
        "  elif stat == 'gdp':\n",
        "    print(f'GDP = {allData[code][stat]} trillion USD.')\n",
        "  elif stat == 'ccy':\n",
        "    print(f'Currency = {allData[code][stat]}.')\n",
        "  else:\n",
        "    print(f'FX = {allData[code][stat]}.')\n",
        "\n",
        "\n"
      ],
      "metadata": {
        "id": "NZFjRINKowEW",
        "colab": {
          "base_uri": "https://localhost:8080/"
        },
        "outputId": "0e6856d4-a678-4406-9d1e-ddd0d8b088a8"
      },
      "execution_count": null,
      "outputs": [
        {
          "name": "stdout",
          "output_type": "stream",
          "text": [
            "Please enter a country code: (or type \"exit\" to stop): )CA\n",
            "Please enter a statistic: gdp\n",
            "GDP = 1.65 trillion USD.\n",
            "Please enter a country code: (or type \"exit\" to stop): )US\n",
            "Please enter a statistic: ccy\n",
            "Currency = USD.\n",
            "Please enter a country code: (or type \"exit\" to stop): )MX\n",
            "Please enter a statistic: pop\n",
            "Population = 129.2 million people.\n",
            "Please enter a country code: (or type \"exit\" to stop): )exit\n"
          ]
        }
      ]
    },
    {
      "cell_type": "markdown",
      "source": [
        "## Assignment 3: Parking Garage (6 points)\n",
        "\n",
        "Write a program to compute the fee for parking in a garage for a number of hours.\n",
        "\n",
        "The program should:\n",
        "- Prompt the user for how many hours parked\n",
        "- Calculate the fee based on the following rules:\n",
        "  - $2.50/hour\n",
        "\n",
        "  - minimum fee is $6.00\n",
        "\n",
        "  - maximum fee is $20.00\n",
        "- Print the result\n",
        "\n",
        "For your program, define and use the following two functions:\n",
        "```python\n",
        "# use input() to prompt for the # of hours parked, return this value\n",
        "def getParkingHours()\n",
        "\n",
        "# takes as input hours (a number), returns the parking fee\n",
        "def calcParkingFee()\n",
        "```"
      ],
      "metadata": {
        "id": "GjaUFrnfpKFf"
      }
    },
    {
      "cell_type": "code",
      "source": [
        "def getParkingHours():\n",
        "  return int(input('Enter the amount of hours you want to park:'))\n",
        "\n",
        "def calcParkingFee(hours):\n",
        "  fee = hours*2.50\n",
        "  if fee < 6:\n",
        "    return 6.0\n",
        "  elif fee > 20:\n",
        "    return 20.0\n",
        "  else:\n",
        "    return fee\n",
        "\n",
        "fee = calcParkingFee(getParkingHours())\n",
        "print(f'Fee is ${fee}0')"
      ],
      "metadata": {
        "id": "5ha4O3V5pwNN",
        "colab": {
          "base_uri": "https://localhost:8080/"
        },
        "outputId": "1e2a467d-3bca-4b68-8fd2-19d5b9b2f776"
      },
      "execution_count": null,
      "outputs": [
        {
          "output_type": "stream",
          "name": "stdout",
          "text": [
            "Enter the amount of hours you want to park:25\n",
            "Fee is $20.00\n"
          ]
        }
      ]
    },
    {
      "cell_type": "markdown",
      "source": [
        "## Assignment 4: Tuition (6 points)\n",
        "\n",
        "A college charges tuition according to the following:\n",
        "- 12 or more credits: $20,000/semester\n",
        "\n",
        "- 1-11 credits: $1,200 + $1,700 per credit\n",
        "\n",
        "Write a program that prompts the user for a number of credits and determines and displays the tuition for the semester. As part of your program, define and use the following function:\n",
        "```python\n",
        "def calcTuition(credits)\n",
        "```\n",
        "The function returns the tuition for a given number of credits"
      ],
      "metadata": {
        "id": "gipBObe5qm-2"
      }
    },
    {
      "cell_type": "code",
      "source": [
        "def calcTuition(credits):\n",
        "  if credits >=12:\n",
        "    print('Tuition = $20000')\n",
        "  elif credits >1:\n",
        "    print(f'Tuition = ${1200 + 1700*credits}')\n",
        "  else:\n",
        "    print('Invalid number of credits')\n",
        "\n",
        "credits = int(input('Enter number of credits: '))\n",
        "calcTuition(credits)\n",
        "\n"
      ],
      "metadata": {
        "id": "BPcn9ywzrL8y",
        "colab": {
          "base_uri": "https://localhost:8080/"
        },
        "outputId": "385e32ed-488c-4fc4-b978-b948f1502ac0"
      },
      "execution_count": null,
      "outputs": [
        {
          "output_type": "stream",
          "name": "stdout",
          "text": [
            "Enter number of credits: 9\n",
            "Tuition = $16500\n"
          ]
        }
      ]
    }
  ]
}